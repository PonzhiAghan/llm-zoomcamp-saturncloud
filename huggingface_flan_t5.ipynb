{
 "cells": [
  {
   "cell_type": "code",
   "execution_count": 1,
   "id": "578d3b93-2e10-4f0f-b967-fa61310e1865",
   "metadata": {
    "execution": {
     "iopub.execute_input": "2024-07-03T07:52:38.831838Z",
     "iopub.status.busy": "2024-07-03T07:52:38.831443Z",
     "iopub.status.idle": "2024-07-03T07:52:38.838470Z",
     "shell.execute_reply": "2024-07-03T07:52:38.837619Z",
     "shell.execute_reply.started": "2024-07-03T07:52:38.831810Z"
    },
    "tags": []
   },
   "outputs": [],
   "source": [
    "import os\n",
    "os.environ['HF_HOME'] = '/run/cache/'"
   ]
  },
  {
   "cell_type": "code",
   "execution_count": 2,
   "id": "6ad9482e-19ad-4b7b-8d7a-2d313e301d45",
   "metadata": {
    "execution": {
     "iopub.execute_input": "2024-07-03T07:52:57.670839Z",
     "iopub.status.busy": "2024-07-03T07:52:57.670423Z",
     "iopub.status.idle": "2024-07-03T07:52:58.998322Z",
     "shell.execute_reply": "2024-07-03T07:52:58.997590Z",
     "shell.execute_reply.started": "2024-07-03T07:52:57.670811Z"
    },
    "tags": []
   },
   "outputs": [
    {
     "name": "stdout",
     "output_type": "stream",
     "text": [
      "--2024-07-03 07:52:58--  https://raw.githubusercontent.com/alexeygrigorev/minsearch/main/minsearch.py\n",
      "Resolving raw.githubusercontent.com (raw.githubusercontent.com)... 185.199.110.133, 185.199.109.133, 185.199.108.133, ...\n",
      "Connecting to raw.githubusercontent.com (raw.githubusercontent.com)|185.199.110.133|:443... connected.\n",
      "HTTP request sent, awaiting response... 200 OK\n",
      "Length: 3832 (3.7K) [text/plain]\n",
      "Saving to: ‘minsearch.py’\n",
      "\n",
      "minsearch.py        100%[===================>]   3.74K  --.-KB/s    in 0s      \n",
      "\n",
      "2024-07-03 07:52:58 (63.4 MB/s) - ‘minsearch.py’ saved [3832/3832]\n",
      "\n"
     ]
    }
   ],
   "source": [
    "!rm -f minsearch.py\n",
    "!wget https://raw.githubusercontent.com/alexeygrigorev/minsearch/main/minsearch.py"
   ]
  },
  {
   "cell_type": "code",
   "execution_count": 3,
   "id": "fd73febd-fdf5-497a-9511-3804595701f9",
   "metadata": {
    "execution": {
     "iopub.execute_input": "2024-07-03T07:53:17.763180Z",
     "iopub.status.busy": "2024-07-03T07:53:17.762769Z",
     "iopub.status.idle": "2024-07-03T07:53:20.845761Z",
     "shell.execute_reply": "2024-07-03T07:53:20.844918Z",
     "shell.execute_reply.started": "2024-07-03T07:53:17.763154Z"
    },
    "tags": []
   },
   "outputs": [
    {
     "data": {
      "text/plain": [
       "<minsearch.Index at 0x7f29b43f6f80>"
      ]
     },
     "execution_count": 3,
     "metadata": {},
     "output_type": "execute_result"
    }
   ],
   "source": [
    "import requests \n",
    "import minsearch\n",
    "\n",
    "docs_url = 'https://github.com/DataTalksClub/llm-zoomcamp/blob/main/01-intro/documents.json?raw=1'\n",
    "docs_response = requests.get(docs_url)\n",
    "documents_raw = docs_response.json()\n",
    "\n",
    "documents = []\n",
    "\n",
    "for course in documents_raw:\n",
    "    course_name = course['course']\n",
    "\n",
    "    for doc in course['documents']:\n",
    "        doc['course'] = course_name\n",
    "        documents.append(doc)\n",
    "\n",
    "index = minsearch.Index(\n",
    "    text_fields=[\"question\", \"text\", \"section\"],\n",
    "    keyword_fields=[\"course\"]\n",
    ")\n",
    "\n",
    "index.fit(documents)"
   ]
  },
  {
   "cell_type": "code",
   "execution_count": 4,
   "id": "891bae25-969d-4a7a-bb26-dae0fb1d977f",
   "metadata": {
    "execution": {
     "iopub.execute_input": "2024-07-03T07:53:27.412912Z",
     "iopub.status.busy": "2024-07-03T07:53:27.412418Z",
     "iopub.status.idle": "2024-07-03T07:53:27.417038Z",
     "shell.execute_reply": "2024-07-03T07:53:27.416268Z",
     "shell.execute_reply.started": "2024-07-03T07:53:27.412886Z"
    },
    "tags": []
   },
   "outputs": [],
   "source": [
    "def search(query):\n",
    "    boost = {'question': 3.0, 'section': 0.5}\n",
    "\n",
    "    results = index.search(\n",
    "        query=query,\n",
    "        filter_dict={'course': 'data-engineering-zoomcamp'},\n",
    "        boost_dict=boost,\n",
    "        num_results=5\n",
    "    )\n",
    "\n",
    "    return results"
   ]
  },
  {
   "cell_type": "code",
   "execution_count": 5,
   "id": "d4a36be8-0ab2-478a-b556-c97b84e3aa11",
   "metadata": {
    "execution": {
     "iopub.execute_input": "2024-07-03T07:53:35.662379Z",
     "iopub.status.busy": "2024-07-03T07:53:35.661834Z",
     "iopub.status.idle": "2024-07-03T07:53:35.666645Z",
     "shell.execute_reply": "2024-07-03T07:53:35.665977Z",
     "shell.execute_reply.started": "2024-07-03T07:53:35.662333Z"
    },
    "tags": []
   },
   "outputs": [],
   "source": [
    "def rag(query):\n",
    "    search_results = search(query)\n",
    "    prompt = build_prompt(query, search_results)\n",
    "    answer = llm(prompt)\n",
    "    return answer\n",
    "\n"
   ]
  },
  {
   "cell_type": "code",
   "execution_count": 6,
   "id": "1dc44456-d3ab-489c-a7ec-c5cc7b407b56",
   "metadata": {
    "execution": {
     "iopub.execute_input": "2024-07-03T07:53:49.912309Z",
     "iopub.status.busy": "2024-07-03T07:53:49.911848Z",
     "iopub.status.idle": "2024-07-03T07:53:50.544768Z",
     "shell.execute_reply": "2024-07-03T07:53:50.544001Z",
     "shell.execute_reply.started": "2024-07-03T07:53:49.912268Z"
    },
    "tags": []
   },
   "outputs": [
    {
     "name": "stdout",
     "output_type": "stream",
     "text": [
      "Filesystem      Size  Used Avail Use% Mounted on\n",
      "overlay         100G   28G   73G  28% /\n",
      "tmpfs            64M     0   64M   0% /dev\n",
      "tmpfs           7.7G     0  7.7G   0% /sys/fs/cgroup\n",
      "/dev/nvme0n1p1  100G   28G   73G  28% /run\n",
      "tmpfs            14G     0   14G   0% /dev/shm\n",
      "/dev/nvme2n1    2.0G  132M  1.8G   7% /home/jovyan\n",
      "tmpfs            14G  120K   14G   1% /home/jovyan/.saturn\n",
      "tmpfs            14G   12K   14G   1% /run/secrets/kubernetes.io/serviceaccount\n",
      "tmpfs           7.7G   12K  7.7G   1% /proc/driver/nvidia\n",
      "tmpfs           7.7G  3.4M  7.7G   1% /run/nvidia-persistenced/socket\n",
      "tmpfs           7.7G     0  7.7G   0% /proc/acpi\n",
      "tmpfs           7.7G     0  7.7G   0% /sys/firmware\n"
     ]
    }
   ],
   "source": [
    "!df -h"
   ]
  },
  {
   "cell_type": "code",
   "execution_count": 7,
   "id": "af66e618-85c1-407e-b6c0-399dc4193a94",
   "metadata": {
    "execution": {
     "iopub.execute_input": "2024-07-03T08:15:24.263001Z",
     "iopub.status.busy": "2024-07-03T08:15:24.262560Z",
     "iopub.status.idle": "2024-07-03T08:15:29.327292Z",
     "shell.execute_reply": "2024-07-03T08:15:29.326620Z",
     "shell.execute_reply.started": "2024-07-03T08:15:24.262968Z"
    },
    "tags": []
   },
   "outputs": [],
   "source": [
    "from transformers import T5Tokenizer, T5ForConditionalGeneration"
   ]
  },
  {
   "cell_type": "code",
   "execution_count": 8,
   "id": "ffc94aa5-c175-418c-9fca-c6bf5562f0a6",
   "metadata": {
    "execution": {
     "iopub.execute_input": "2024-07-03T08:15:34.051710Z",
     "iopub.status.busy": "2024-07-03T08:15:34.051199Z",
     "iopub.status.idle": "2024-07-03T08:18:27.498704Z",
     "shell.execute_reply": "2024-07-03T08:18:27.498047Z",
     "shell.execute_reply.started": "2024-07-03T08:15:34.051682Z"
    },
    "tags": []
   },
   "outputs": [
    {
     "data": {
      "application/vnd.jupyter.widget-view+json": {
       "model_id": "ba22aa7cb82d450c99f40b880ade8952",
       "version_major": 2,
       "version_minor": 0
      },
      "text/plain": [
       "tokenizer_config.json:   0%|          | 0.00/2.54k [00:00<?, ?B/s]"
      ]
     },
     "metadata": {},
     "output_type": "display_data"
    },
    {
     "data": {
      "application/vnd.jupyter.widget-view+json": {
       "model_id": "bc825f3986624e268d60015279b05c87",
       "version_major": 2,
       "version_minor": 0
      },
      "text/plain": [
       "spiece.model:   0%|          | 0.00/792k [00:00<?, ?B/s]"
      ]
     },
     "metadata": {},
     "output_type": "display_data"
    },
    {
     "data": {
      "application/vnd.jupyter.widget-view+json": {
       "model_id": "c013c22424044912abc2c51df7c48a6c",
       "version_major": 2,
       "version_minor": 0
      },
      "text/plain": [
       "special_tokens_map.json:   0%|          | 0.00/2.20k [00:00<?, ?B/s]"
      ]
     },
     "metadata": {},
     "output_type": "display_data"
    },
    {
     "data": {
      "application/vnd.jupyter.widget-view+json": {
       "model_id": "f7f8715fba3c4c348181c7693b94659d",
       "version_major": 2,
       "version_minor": 0
      },
      "text/plain": [
       "tokenizer.json:   0%|          | 0.00/2.42M [00:00<?, ?B/s]"
      ]
     },
     "metadata": {},
     "output_type": "display_data"
    },
    {
     "name": "stderr",
     "output_type": "stream",
     "text": [
      "You are using the default legacy behaviour of the <class 'transformers.models.t5.tokenization_t5.T5Tokenizer'>. This is expected, and simply means that the `legacy` (previous) behavior will be used so nothing changes for you. If you want to use the new behaviour, set `legacy=False`. This should only be set if you understand what it means, and thoroughly read the reason why this was added as explained in https://github.com/huggingface/transformers/pull/24565\n",
      "Special tokens have been added in the vocabulary, make sure the associated word embeddings are fine-tuned or trained.\n"
     ]
    },
    {
     "data": {
      "application/vnd.jupyter.widget-view+json": {
       "model_id": "e3d0af2be5c348b48377629a2beb3d12",
       "version_major": 2,
       "version_minor": 0
      },
      "text/plain": [
       "config.json:   0%|          | 0.00/1.44k [00:00<?, ?B/s]"
      ]
     },
     "metadata": {},
     "output_type": "display_data"
    },
    {
     "data": {
      "application/vnd.jupyter.widget-view+json": {
       "model_id": "7a7be90b727c4fdd91c74d14ff2438cf",
       "version_major": 2,
       "version_minor": 0
      },
      "text/plain": [
       "model.safetensors.index.json:   0%|          | 0.00/53.0k [00:00<?, ?B/s]"
      ]
     },
     "metadata": {},
     "output_type": "display_data"
    },
    {
     "data": {
      "application/vnd.jupyter.widget-view+json": {
       "model_id": "7e3744c278614d0b9f2743fcfe7bdeb1",
       "version_major": 2,
       "version_minor": 0
      },
      "text/plain": [
       "Downloading shards:   0%|          | 0/2 [00:00<?, ?it/s]"
      ]
     },
     "metadata": {},
     "output_type": "display_data"
    },
    {
     "data": {
      "application/vnd.jupyter.widget-view+json": {
       "model_id": "35feef457b574d089d8e1fbaa0f06a88",
       "version_major": 2,
       "version_minor": 0
      },
      "text/plain": [
       "model-00001-of-00002.safetensors:   0%|          | 0.00/9.45G [00:00<?, ?B/s]"
      ]
     },
     "metadata": {},
     "output_type": "display_data"
    },
    {
     "data": {
      "application/vnd.jupyter.widget-view+json": {
       "model_id": "b88c4ba83d5d450ab04b00b854c7ce10",
       "version_major": 2,
       "version_minor": 0
      },
      "text/plain": [
       "model-00002-of-00002.safetensors:   0%|          | 0.00/1.95G [00:00<?, ?B/s]"
      ]
     },
     "metadata": {},
     "output_type": "display_data"
    },
    {
     "data": {
      "application/vnd.jupyter.widget-view+json": {
       "model_id": "4644f010ee94476c99fad45a94fcdd6f",
       "version_major": 2,
       "version_minor": 0
      },
      "text/plain": [
       "Loading checkpoint shards:   0%|          | 0/2 [00:00<?, ?it/s]"
      ]
     },
     "metadata": {},
     "output_type": "display_data"
    },
    {
     "data": {
      "application/vnd.jupyter.widget-view+json": {
       "model_id": "f09c664dc1ec4dbfbf0c7dc1c447362a",
       "version_major": 2,
       "version_minor": 0
      },
      "text/plain": [
       "generation_config.json:   0%|          | 0.00/147 [00:00<?, ?B/s]"
      ]
     },
     "metadata": {},
     "output_type": "display_data"
    }
   ],
   "source": [
    "tokenizer = T5Tokenizer.from_pretrained(\"google/flan-t5-xl\")\n",
    "model = T5ForConditionalGeneration.from_pretrained(\"google/flan-t5-xl\", device_map=\"auto\")"
   ]
  },
  {
   "cell_type": "code",
   "execution_count": 9,
   "id": "15fa5007-a49d-4d40-84fd-b90852eff6b1",
   "metadata": {
    "execution": {
     "iopub.execute_input": "2024-07-03T08:20:38.452616Z",
     "iopub.status.busy": "2024-07-03T08:20:38.452216Z",
     "iopub.status.idle": "2024-07-03T08:20:38.461053Z",
     "shell.execute_reply": "2024-07-03T08:20:38.459896Z",
     "shell.execute_reply.started": "2024-07-03T08:20:38.452589Z"
    },
    "tags": []
   },
   "outputs": [
    {
     "data": {
      "text/plain": [
       "tensor([[13959,  1566,    12,  2968,    10,   571,   625,    33,    25,    58,\n",
       "             1]], device='cuda:0')"
      ]
     },
     "execution_count": 9,
     "metadata": {},
     "output_type": "execute_result"
    }
   ],
   "source": [
    "input_text = 'translate English to German: How old are you?'\n",
    "input_ids = tokenizer(input_text, return_tensors='pt').input_ids.to('cuda')\n",
    "input_ids"
   ]
  },
  {
   "cell_type": "code",
   "execution_count": 11,
   "id": "d2e0e510-f77b-436c-ac99-1bf680a6ab4f",
   "metadata": {
    "execution": {
     "iopub.execute_input": "2024-07-03T08:24:05.865247Z",
     "iopub.status.busy": "2024-07-03T08:24:05.864841Z",
     "iopub.status.idle": "2024-07-03T08:24:05.871076Z",
     "shell.execute_reply": "2024-07-03T08:24:05.870151Z",
     "shell.execute_reply.started": "2024-07-03T08:24:05.865219Z"
    },
    "tags": []
   },
   "outputs": [
    {
     "data": {
      "text/plain": [
       "tensor([[   0, 2739, 4445,  436,  292,   58,    1]], device='cuda:0')"
      ]
     },
     "execution_count": 11,
     "metadata": {},
     "output_type": "execute_result"
    }
   ],
   "source": [
    "outputs"
   ]
  },
  {
   "cell_type": "code",
   "execution_count": 10,
   "id": "7b74cc5b-cff7-4532-81d9-3b742e185cf0",
   "metadata": {
    "execution": {
     "iopub.execute_input": "2024-07-03T08:21:16.663121Z",
     "iopub.status.busy": "2024-07-03T08:21:16.662694Z",
     "iopub.status.idle": "2024-07-03T08:21:17.746676Z",
     "shell.execute_reply": "2024-07-03T08:21:17.745762Z",
     "shell.execute_reply.started": "2024-07-03T08:21:16.663093Z"
    },
    "tags": []
   },
   "outputs": [
    {
     "name": "stderr",
     "output_type": "stream",
     "text": [
      "/opt/saturncloud/envs/saturn/lib/python3.10/site-packages/transformers/generation/utils.py:1249: UserWarning: Using the model-agnostic default `max_length` (=20) to control the generation length. We recommend setting `max_new_tokens` to control the maximum length of the generation.\n",
      "  warnings.warn(\n"
     ]
    },
    {
     "name": "stdout",
     "output_type": "stream",
     "text": [
      "<pad> Wie alt sind Sie?</s>\n"
     ]
    }
   ],
   "source": [
    "outputs = model.generate(input_ids)\n",
    "print(tokenizer.decode(outputs[0]))"
   ]
  },
  {
   "cell_type": "code",
   "execution_count": 12,
   "id": "bb281da0-12fc-4d71-a087-846bdedd6553",
   "metadata": {
    "execution": {
     "iopub.execute_input": "2024-07-03T08:26:18.859883Z",
     "iopub.status.busy": "2024-07-03T08:26:18.859484Z",
     "iopub.status.idle": "2024-07-03T08:26:19.090949Z",
     "shell.execute_reply": "2024-07-03T08:26:19.090257Z",
     "shell.execute_reply.started": "2024-07-03T08:26:18.859856Z"
    },
    "tags": []
   },
   "outputs": [],
   "source": [
    "input_text = 'translate English to German: How old are you?'\n",
    "input_ids = tokenizer(input_text, return_tensors='pt').input_ids.to('cuda')\n",
    "outputs = model.generate(input_ids)\n",
    "result = tokenizer.decode(outputs[0])"
   ]
  },
  {
   "cell_type": "code",
   "execution_count": 13,
   "id": "ba8295d6-d708-4a34-8872-b845e6270493",
   "metadata": {
    "execution": {
     "iopub.execute_input": "2024-07-03T08:26:38.483699Z",
     "iopub.status.busy": "2024-07-03T08:26:38.483289Z",
     "iopub.status.idle": "2024-07-03T08:26:38.488597Z",
     "shell.execute_reply": "2024-07-03T08:26:38.487808Z",
     "shell.execute_reply.started": "2024-07-03T08:26:38.483670Z"
    },
    "tags": []
   },
   "outputs": [
    {
     "data": {
      "text/plain": [
       "'<pad> Wie alt sind Sie?</s>'"
      ]
     },
     "execution_count": 13,
     "metadata": {},
     "output_type": "execute_result"
    }
   ],
   "source": [
    "result"
   ]
  },
  {
   "cell_type": "code",
   "execution_count": 14,
   "id": "45059a9e-21bb-4271-87ba-6ed28aac8e60",
   "metadata": {
    "execution": {
     "iopub.execute_input": "2024-07-03T08:27:25.163744Z",
     "iopub.status.busy": "2024-07-03T08:27:25.163311Z",
     "iopub.status.idle": "2024-07-03T08:27:25.169397Z",
     "shell.execute_reply": "2024-07-03T08:27:25.168438Z",
     "shell.execute_reply.started": "2024-07-03T08:27:25.163718Z"
    },
    "tags": []
   },
   "outputs": [],
   "source": [
    "def build_prompt(query, search_results):\n",
    "    prompt_template = \"\"\"\n",
    "You're a course teaching assistant. Answer the QUESTION based on the CONTEXT from the FAQ database.\n",
    "Use only the facts from the CONTEXT when answering the QUESTION.\n",
    "\n",
    "QUESTION: {question}\n",
    "\n",
    "CONTEXT:\n",
    "{context}\n",
    "\"\"\".strip()\n",
    "\n",
    "    context = \"\"\n",
    "    \n",
    "    for doc in search_results:\n",
    "        context = context + f\"section: {doc['section']}\\nquestion: {doc['question']}\\nanswer: {doc['text']}\\n\\n\"\n",
    "    \n",
    "    prompt = prompt_template.format(question=query, context=context).strip()\n",
    "    return prompt\n",
    "\n",
    "def llm(prompt):\n",
    "    input_ids = tokenizer(prompt, return_tensors=\"pt\").input_ids.to(\"cuda\")\n",
    "    outputs = model.generate(input_ids, )\n",
    "    result = tokenizer.decode(outputs[0])\n",
    "    return result"
   ]
  },
  {
   "cell_type": "code",
   "execution_count": 15,
   "id": "c948b8a4-5537-4731-83e9-74689f8ab654",
   "metadata": {
    "execution": {
     "iopub.execute_input": "2024-07-03T08:27:48.452545Z",
     "iopub.status.busy": "2024-07-03T08:27:48.452149Z",
     "iopub.status.idle": "2024-07-03T08:27:49.446737Z",
     "shell.execute_reply": "2024-07-03T08:27:49.445921Z",
     "shell.execute_reply.started": "2024-07-03T08:27:48.452516Z"
    },
    "tags": []
   },
   "outputs": [
    {
     "data": {
      "text/plain": [
       "\"<pad>Yes, even if you don't register, you're still eligible to submit the\""
      ]
     },
     "execution_count": 15,
     "metadata": {},
     "output_type": "execute_result"
    }
   ],
   "source": [
    "rag(\"I just discovered the course. Can I still join it?\")"
   ]
  },
  {
   "cell_type": "code",
   "execution_count": 16,
   "id": "d2ce75f9-e5ea-4142-bf7a-8296e86cc3f8",
   "metadata": {
    "execution": {
     "iopub.execute_input": "2024-07-03T08:31:26.249593Z",
     "iopub.status.busy": "2024-07-03T08:31:26.249143Z",
     "iopub.status.idle": "2024-07-03T08:31:26.254499Z",
     "shell.execute_reply": "2024-07-03T08:31:26.253761Z",
     "shell.execute_reply.started": "2024-07-03T08:31:26.249554Z"
    },
    "tags": []
   },
   "outputs": [],
   "source": [
    "def llm(prompt, generate_params=None):\n",
    "    if generate_params is None:\n",
    "        generate_params = {}\n",
    "\n",
    "    input_ids = tokenizer(prompt, return_tensors=\"pt\").input_ids.to(\"cuda\")\n",
    "    outputs = model.generate(\n",
    "        input_ids,\n",
    "        max_length=generate_params.get(\"max_length\", 100),\n",
    "        num_beams=generate_params.get(\"num_beams\", 5),\n",
    "        do_sample=generate_params.get(\"do_sample\", False),\n",
    "        temperature=generate_params.get(\"temperature\", 1.0),\n",
    "        top_k=generate_params.get(\"top_k\", 50),\n",
    "        top_p=generate_params.get(\"top_p\", 0.95),\n",
    "    )\n",
    "    result = tokenizer.decode(outputs[0], skip_special_tokens=True)\n",
    "    return result"
   ]
  },
  {
   "cell_type": "code",
   "execution_count": 17,
   "id": "597d9dad-60e2-455a-9c89-4adea6d4b718",
   "metadata": {
    "execution": {
     "iopub.execute_input": "2024-07-03T08:31:30.695559Z",
     "iopub.status.busy": "2024-07-03T08:31:30.695166Z",
     "iopub.status.idle": "2024-07-03T08:31:34.322826Z",
     "shell.execute_reply": "2024-07-03T08:31:34.321947Z",
     "shell.execute_reply.started": "2024-07-03T08:31:30.695533Z"
    },
    "tags": []
   },
   "outputs": [
    {
     "name": "stderr",
     "output_type": "stream",
     "text": [
      "/opt/saturncloud/envs/saturn/lib/python3.10/site-packages/transformers/generation/configuration_utils.py:545: UserWarning: `do_sample` is set to `False`. However, `top_p` is set to `0.95` -- this flag is only used in sample-based generation modes. You should set `do_sample=True` or unset `top_p`.\n",
      "  warnings.warn(\n"
     ]
    },
    {
     "data": {
      "text/plain": [
       "\"Yes, even if you don't register, you're still eligible to submit the homeworks. Be aware, however, that there will be deadlines for turning in the final projects. So don't leave everything for the last minute.\""
      ]
     },
     "execution_count": 17,
     "metadata": {},
     "output_type": "execute_result"
    }
   ],
   "source": [
    "rag(\"I just discovered the course. Can I still join it?\")"
   ]
  },
  {
   "cell_type": "code",
   "execution_count": null,
   "id": "efcead37-7714-452c-8f5a-3d128b840455",
   "metadata": {},
   "outputs": [],
   "source": []
  },
  {
   "cell_type": "code",
   "execution_count": null,
   "id": "04642d35-c0a9-4ff2-840a-872eefa2dbf5",
   "metadata": {},
   "outputs": [],
   "source": []
  }
 ],
 "metadata": {
  "kernelspec": {
   "display_name": "saturn (Python 3)",
   "language": "python",
   "name": "python3"
  },
  "language_info": {
   "codemirror_mode": {
    "name": "ipython",
    "version": 3
   },
   "file_extension": ".py",
   "mimetype": "text/x-python",
   "name": "python",
   "nbconvert_exporter": "python",
   "pygments_lexer": "ipython3",
   "version": "3.10.13"
  }
 },
 "nbformat": 4,
 "nbformat_minor": 5
}
