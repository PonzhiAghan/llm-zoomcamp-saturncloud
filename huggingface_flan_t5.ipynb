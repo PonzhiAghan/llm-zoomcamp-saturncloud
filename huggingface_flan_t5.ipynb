{
 "cells": [
  {
   "cell_type": "code",
   "execution_count": 1,
   "id": "578d3b93-2e10-4f0f-b967-fa61310e1865",
   "metadata": {
    "execution": {
     "iopub.execute_input": "2024-07-03T09:33:55.325116Z",
     "iopub.status.busy": "2024-07-03T09:33:55.324779Z",
     "iopub.status.idle": "2024-07-03T09:33:55.331516Z",
     "shell.execute_reply": "2024-07-03T09:33:55.330858Z",
     "shell.execute_reply.started": "2024-07-03T09:33:55.325085Z"
    },
    "tags": []
   },
   "outputs": [],
   "source": [
    "import os\n",
    "os.environ['HF_HOME'] = '/run/cache/'"
   ]
  },
  {
   "cell_type": "code",
   "execution_count": 2,
   "id": "6ad9482e-19ad-4b7b-8d7a-2d313e301d45",
   "metadata": {
    "execution": {
     "iopub.execute_input": "2024-07-03T09:33:55.332926Z",
     "iopub.status.busy": "2024-07-03T09:33:55.332658Z",
     "iopub.status.idle": "2024-07-03T09:33:56.607703Z",
     "shell.execute_reply": "2024-07-03T09:33:56.606959Z",
     "shell.execute_reply.started": "2024-07-03T09:33:55.332903Z"
    },
    "tags": []
   },
   "outputs": [
    {
     "name": "stdout",
     "output_type": "stream",
     "text": [
      "--2024-07-03 09:33:56--  https://raw.githubusercontent.com/alexeygrigorev/minsearch/main/minsearch.py\n",
      "Resolving raw.githubusercontent.com (raw.githubusercontent.com)... 185.199.108.133, 185.199.111.133, 185.199.110.133, ...\n",
      "Connecting to raw.githubusercontent.com (raw.githubusercontent.com)|185.199.108.133|:443... connected.\n",
      "HTTP request sent, awaiting response... 200 OK\n",
      "Length: 3832 (3.7K) [text/plain]\n",
      "Saving to: ‘minsearch.py’\n",
      "\n",
      "minsearch.py        100%[===================>]   3.74K  --.-KB/s    in 0s      \n",
      "\n",
      "2024-07-03 09:33:56 (89.6 MB/s) - ‘minsearch.py’ saved [3832/3832]\n",
      "\n"
     ]
    }
   ],
   "source": [
    "!rm -f minsearch.py\n",
    "!wget https://raw.githubusercontent.com/alexeygrigorev/minsearch/main/minsearch.py"
   ]
  },
  {
   "cell_type": "code",
   "execution_count": 3,
   "id": "fd73febd-fdf5-497a-9511-3804595701f9",
   "metadata": {
    "execution": {
     "iopub.execute_input": "2024-07-03T09:33:56.609480Z",
     "iopub.status.busy": "2024-07-03T09:33:56.608877Z",
     "iopub.status.idle": "2024-07-03T09:33:57.603637Z",
     "shell.execute_reply": "2024-07-03T09:33:57.602782Z",
     "shell.execute_reply.started": "2024-07-03T09:33:56.609441Z"
    },
    "tags": []
   },
   "outputs": [
    {
     "data": {
      "text/plain": [
       "<minsearch.Index at 0x7ff56664bdf0>"
      ]
     },
     "execution_count": 3,
     "metadata": {},
     "output_type": "execute_result"
    }
   ],
   "source": [
    "import requests \n",
    "import minsearch\n",
    "\n",
    "docs_url = 'https://github.com/DataTalksClub/llm-zoomcamp/blob/main/01-intro/documents.json?raw=1'\n",
    "docs_response = requests.get(docs_url)\n",
    "documents_raw = docs_response.json()\n",
    "\n",
    "documents = []\n",
    "\n",
    "for course in documents_raw:\n",
    "    course_name = course['course']\n",
    "\n",
    "    for doc in course['documents']:\n",
    "        doc['course'] = course_name\n",
    "        documents.append(doc)\n",
    "\n",
    "index = minsearch.Index(\n",
    "    text_fields=[\"question\", \"text\", \"section\"],\n",
    "    keyword_fields=[\"course\"]\n",
    ")\n",
    "\n",
    "index.fit(documents)"
   ]
  },
  {
   "cell_type": "code",
   "execution_count": 4,
   "id": "891bae25-969d-4a7a-bb26-dae0fb1d977f",
   "metadata": {
    "execution": {
     "iopub.execute_input": "2024-07-03T09:33:57.605478Z",
     "iopub.status.busy": "2024-07-03T09:33:57.604529Z",
     "iopub.status.idle": "2024-07-03T09:33:57.611951Z",
     "shell.execute_reply": "2024-07-03T09:33:57.611131Z",
     "shell.execute_reply.started": "2024-07-03T09:33:57.605453Z"
    },
    "tags": []
   },
   "outputs": [],
   "source": [
    "def search(query):\n",
    "    boost = {'question': 3.0, 'section': 0.5}\n",
    "\n",
    "    results = index.search(\n",
    "        query=query,\n",
    "        filter_dict={'course': 'data-engineering-zoomcamp'},\n",
    "        boost_dict=boost,\n",
    "        num_results=5\n",
    "    )\n",
    "\n",
    "    return results"
   ]
  },
  {
   "cell_type": "code",
   "execution_count": 5,
   "id": "d4a36be8-0ab2-478a-b556-c97b84e3aa11",
   "metadata": {
    "execution": {
     "iopub.execute_input": "2024-07-03T09:33:57.613876Z",
     "iopub.status.busy": "2024-07-03T09:33:57.613604Z",
     "iopub.status.idle": "2024-07-03T09:33:57.618425Z",
     "shell.execute_reply": "2024-07-03T09:33:57.617607Z",
     "shell.execute_reply.started": "2024-07-03T09:33:57.613842Z"
    },
    "tags": []
   },
   "outputs": [],
   "source": [
    "def rag(query):\n",
    "    search_results = search(query)\n",
    "    prompt = build_prompt(query, search_results)\n",
    "    answer = llm(prompt)\n",
    "    return answer\n",
    "\n"
   ]
  },
  {
   "cell_type": "code",
   "execution_count": 6,
   "id": "1dc44456-d3ab-489c-a7ec-c5cc7b407b56",
   "metadata": {
    "execution": {
     "iopub.execute_input": "2024-07-03T09:33:57.619521Z",
     "iopub.status.busy": "2024-07-03T09:33:57.619322Z",
     "iopub.status.idle": "2024-07-03T09:33:58.256846Z",
     "shell.execute_reply": "2024-07-03T09:33:58.256047Z",
     "shell.execute_reply.started": "2024-07-03T09:33:57.619502Z"
    },
    "tags": []
   },
   "outputs": [
    {
     "name": "stdout",
     "output_type": "stream",
     "text": [
      "Filesystem      Size  Used Avail Use% Mounted on\n",
      "overlay         100G   46G   55G  46% /\n",
      "tmpfs            64M     0   64M   0% /dev\n",
      "tmpfs           7.7G     0  7.7G   0% /sys/fs/cgroup\n",
      "/dev/nvme0n1p1  100G   46G   55G  46% /run\n",
      "tmpfs            14G  8.0K   14G   1% /dev/shm\n",
      "/dev/nvme2n1    2.0G  132M  1.8G   7% /home/jovyan\n",
      "tmpfs            14G  120K   14G   1% /home/jovyan/.saturn\n",
      "tmpfs            14G   12K   14G   1% /run/secrets/kubernetes.io/serviceaccount\n",
      "tmpfs           7.7G   12K  7.7G   1% /proc/driver/nvidia\n",
      "tmpfs           7.7G  7.4M  7.7G   1% /run/nvidia-persistenced/socket\n",
      "tmpfs           7.7G     0  7.7G   0% /proc/acpi\n",
      "tmpfs           7.7G     0  7.7G   0% /sys/firmware\n"
     ]
    }
   ],
   "source": [
    "!df -h"
   ]
  },
  {
   "cell_type": "code",
   "execution_count": 7,
   "id": "af66e618-85c1-407e-b6c0-399dc4193a94",
   "metadata": {
    "execution": {
     "iopub.execute_input": "2024-07-03T09:33:58.258467Z",
     "iopub.status.busy": "2024-07-03T09:33:58.258039Z",
     "iopub.status.idle": "2024-07-03T09:34:00.595171Z",
     "shell.execute_reply": "2024-07-03T09:34:00.594444Z",
     "shell.execute_reply.started": "2024-07-03T09:33:58.258427Z"
    },
    "tags": []
   },
   "outputs": [],
   "source": [
    "from transformers import T5Tokenizer, T5ForConditionalGeneration"
   ]
  },
  {
   "cell_type": "code",
   "execution_count": 8,
   "id": "ffc94aa5-c175-418c-9fca-c6bf5562f0a6",
   "metadata": {
    "execution": {
     "iopub.execute_input": "2024-07-03T09:34:00.597318Z",
     "iopub.status.busy": "2024-07-03T09:34:00.596217Z",
     "iopub.status.idle": "2024-07-03T09:35:21.768599Z",
     "shell.execute_reply": "2024-07-03T09:35:21.767969Z",
     "shell.execute_reply.started": "2024-07-03T09:34:00.597266Z"
    },
    "tags": []
   },
   "outputs": [
    {
     "name": "stderr",
     "output_type": "stream",
     "text": [
      "You are using the default legacy behaviour of the <class 'transformers.models.t5.tokenization_t5.T5Tokenizer'>. This is expected, and simply means that the `legacy` (previous) behavior will be used so nothing changes for you. If you want to use the new behaviour, set `legacy=False`. This should only be set if you understand what it means, and thoroughly read the reason why this was added as explained in https://github.com/huggingface/transformers/pull/24565\n",
      "Special tokens have been added in the vocabulary, make sure the associated word embeddings are fine-tuned or trained.\n"
     ]
    },
    {
     "data": {
      "application/vnd.jupyter.widget-view+json": {
       "model_id": "008e3b1982b14976bec2c1278632e416",
       "version_major": 2,
       "version_minor": 0
      },
      "text/plain": [
       "Loading checkpoint shards:   0%|          | 0/2 [00:00<?, ?it/s]"
      ]
     },
     "metadata": {},
     "output_type": "display_data"
    }
   ],
   "source": [
    "tokenizer = T5Tokenizer.from_pretrained(\"google/flan-t5-xl\")\n",
    "model = T5ForConditionalGeneration.from_pretrained(\"google/flan-t5-xl\", device_map=\"auto\")"
   ]
  },
  {
   "cell_type": "code",
   "execution_count": 9,
   "id": "15fa5007-a49d-4d40-84fd-b90852eff6b1",
   "metadata": {
    "execution": {
     "iopub.execute_input": "2024-07-03T09:35:21.770098Z",
     "iopub.status.busy": "2024-07-03T09:35:21.769707Z",
     "iopub.status.idle": "2024-07-03T09:35:21.776719Z",
     "shell.execute_reply": "2024-07-03T09:35:21.776085Z",
     "shell.execute_reply.started": "2024-07-03T09:35:21.770061Z"
    },
    "tags": []
   },
   "outputs": [
    {
     "data": {
      "text/plain": [
       "tensor([[13959,  1566,    12,  2968,    10,   571,   625,    33,    25,    58,\n",
       "             1]], device='cuda:0')"
      ]
     },
     "execution_count": 9,
     "metadata": {},
     "output_type": "execute_result"
    }
   ],
   "source": [
    "input_text = 'translate English to German: How old are you?'\n",
    "input_ids = tokenizer(input_text, return_tensors='pt').input_ids.to('cuda')\n",
    "input_ids"
   ]
  },
  {
   "cell_type": "code",
   "execution_count": 11,
   "id": "7b74cc5b-cff7-4532-81d9-3b742e185cf0",
   "metadata": {
    "execution": {
     "iopub.execute_input": "2024-07-03T09:36:13.019512Z",
     "iopub.status.busy": "2024-07-03T09:36:13.019131Z",
     "iopub.status.idle": "2024-07-03T09:36:14.313043Z",
     "shell.execute_reply": "2024-07-03T09:36:14.312264Z",
     "shell.execute_reply.started": "2024-07-03T09:36:13.019485Z"
    },
    "tags": []
   },
   "outputs": [
    {
     "name": "stderr",
     "output_type": "stream",
     "text": [
      "/opt/saturncloud/envs/saturn/lib/python3.10/site-packages/transformers/generation/utils.py:1249: UserWarning: Using the model-agnostic default `max_length` (=20) to control the generation length. We recommend setting `max_new_tokens` to control the maximum length of the generation.\n",
      "  warnings.warn(\n"
     ]
    },
    {
     "name": "stdout",
     "output_type": "stream",
     "text": [
      "<pad> Wie alt sind Sie?</s>\n"
     ]
    }
   ],
   "source": [
    "outputs = model.generate(input_ids)\n",
    "print(tokenizer.decode(outputs[0]))"
   ]
  },
  {
   "cell_type": "code",
   "execution_count": 12,
   "id": "d2e0e510-f77b-436c-ac99-1bf680a6ab4f",
   "metadata": {
    "execution": {
     "iopub.execute_input": "2024-07-03T09:36:14.315727Z",
     "iopub.status.busy": "2024-07-03T09:36:14.315032Z",
     "iopub.status.idle": "2024-07-03T09:36:14.321051Z",
     "shell.execute_reply": "2024-07-03T09:36:14.320375Z",
     "shell.execute_reply.started": "2024-07-03T09:36:14.315687Z"
    },
    "tags": []
   },
   "outputs": [
    {
     "data": {
      "text/plain": [
       "tensor([[   0, 2739, 4445,  436,  292,   58,    1]], device='cuda:0')"
      ]
     },
     "execution_count": 12,
     "metadata": {},
     "output_type": "execute_result"
    }
   ],
   "source": [
    "outputs"
   ]
  },
  {
   "cell_type": "code",
   "execution_count": 13,
   "id": "bb281da0-12fc-4d71-a087-846bdedd6553",
   "metadata": {
    "execution": {
     "iopub.execute_input": "2024-07-03T09:36:14.322550Z",
     "iopub.status.busy": "2024-07-03T09:36:14.322133Z",
     "iopub.status.idle": "2024-07-03T09:36:14.547743Z",
     "shell.execute_reply": "2024-07-03T09:36:14.547015Z",
     "shell.execute_reply.started": "2024-07-03T09:36:14.322514Z"
    },
    "tags": []
   },
   "outputs": [],
   "source": [
    "input_text = 'translate English to German: How old are you?'\n",
    "input_ids = tokenizer(input_text, return_tensors='pt').input_ids.to('cuda')\n",
    "outputs = model.generate(input_ids)\n",
    "result = tokenizer.decode(outputs[0])"
   ]
  },
  {
   "cell_type": "code",
   "execution_count": 14,
   "id": "ba8295d6-d708-4a34-8872-b845e6270493",
   "metadata": {
    "execution": {
     "iopub.execute_input": "2024-07-03T09:36:14.549691Z",
     "iopub.status.busy": "2024-07-03T09:36:14.549311Z",
     "iopub.status.idle": "2024-07-03T09:36:14.554310Z",
     "shell.execute_reply": "2024-07-03T09:36:14.553589Z",
     "shell.execute_reply.started": "2024-07-03T09:36:14.549666Z"
    },
    "tags": []
   },
   "outputs": [
    {
     "data": {
      "text/plain": [
       "'<pad> Wie alt sind Sie?</s>'"
      ]
     },
     "execution_count": 14,
     "metadata": {},
     "output_type": "execute_result"
    }
   ],
   "source": [
    "result"
   ]
  },
  {
   "cell_type": "code",
   "execution_count": 15,
   "id": "45059a9e-21bb-4271-87ba-6ed28aac8e60",
   "metadata": {
    "execution": {
     "iopub.execute_input": "2024-07-03T09:36:14.556258Z",
     "iopub.status.busy": "2024-07-03T09:36:14.555971Z",
     "iopub.status.idle": "2024-07-03T09:36:14.561545Z",
     "shell.execute_reply": "2024-07-03T09:36:14.560994Z",
     "shell.execute_reply.started": "2024-07-03T09:36:14.556215Z"
    },
    "tags": []
   },
   "outputs": [],
   "source": [
    "def build_prompt(query, search_results):\n",
    "    prompt_template = \"\"\"\n",
    "You're a course teaching assistant. Answer the QUESTION based on the CONTEXT from the FAQ database.\n",
    "Use only the facts from the CONTEXT when answering the QUESTION.\n",
    "\n",
    "QUESTION: {question}\n",
    "\n",
    "CONTEXT:\n",
    "{context}\n",
    "\"\"\".strip()\n",
    "\n",
    "    context = \"\"\n",
    "    \n",
    "    for doc in search_results:\n",
    "        context = context + f\"section: {doc['section']}\\nquestion: {doc['question']}\\nanswer: {doc['text']}\\n\\n\"\n",
    "    \n",
    "    prompt = prompt_template.format(question=query, context=context).strip()\n",
    "    return prompt\n",
    "\n",
    "def llm(prompt):\n",
    "    input_ids = tokenizer(prompt, return_tensors=\"pt\").input_ids.to(\"cuda\")\n",
    "    outputs = model.generate(input_ids, )\n",
    "    result = tokenizer.decode(outputs[0])\n",
    "    return result"
   ]
  },
  {
   "cell_type": "code",
   "execution_count": 16,
   "id": "c948b8a4-5537-4731-83e9-74689f8ab654",
   "metadata": {
    "execution": {
     "iopub.execute_input": "2024-07-03T09:36:14.562637Z",
     "iopub.status.busy": "2024-07-03T09:36:14.562281Z",
     "iopub.status.idle": "2024-07-03T09:36:15.546251Z",
     "shell.execute_reply": "2024-07-03T09:36:15.545429Z",
     "shell.execute_reply.started": "2024-07-03T09:36:14.562613Z"
    },
    "tags": []
   },
   "outputs": [
    {
     "data": {
      "text/plain": [
       "\"<pad>Yes, even if you don't register, you're still eligible to submit the\""
      ]
     },
     "execution_count": 16,
     "metadata": {},
     "output_type": "execute_result"
    }
   ],
   "source": [
    "rag(\"I just discovered the course. Can I still join it?\")"
   ]
  },
  {
   "cell_type": "code",
   "execution_count": 17,
   "id": "d2ce75f9-e5ea-4142-bf7a-8296e86cc3f8",
   "metadata": {
    "execution": {
     "iopub.execute_input": "2024-07-03T09:36:15.547921Z",
     "iopub.status.busy": "2024-07-03T09:36:15.547432Z",
     "iopub.status.idle": "2024-07-03T09:36:15.553945Z",
     "shell.execute_reply": "2024-07-03T09:36:15.553285Z",
     "shell.execute_reply.started": "2024-07-03T09:36:15.547882Z"
    },
    "tags": []
   },
   "outputs": [],
   "source": [
    "def llm(prompt, generate_params=None):\n",
    "    if generate_params is None:\n",
    "        generate_params = {}\n",
    "\n",
    "    input_ids = tokenizer(prompt, return_tensors=\"pt\").input_ids.to(\"cuda\")\n",
    "    outputs = model.generate(\n",
    "        input_ids,\n",
    "        max_length=generate_params.get(\"max_length\", 100),\n",
    "        num_beams=generate_params.get(\"num_beams\", 5),\n",
    "        do_sample=generate_params.get(\"do_sample\", False),\n",
    "        temperature=generate_params.get(\"temperature\", 1.0),\n",
    "        top_k=generate_params.get(\"top_k\", 50),\n",
    "        top_p=generate_params.get(\"top_p\", 0.95),\n",
    "    )\n",
    "    result = tokenizer.decode(outputs[0], skip_special_tokens=True)\n",
    "    return result"
   ]
  },
  {
   "cell_type": "code",
   "execution_count": 18,
   "id": "597d9dad-60e2-455a-9c89-4adea6d4b718",
   "metadata": {
    "execution": {
     "iopub.execute_input": "2024-07-03T09:36:15.555213Z",
     "iopub.status.busy": "2024-07-03T09:36:15.554723Z",
     "iopub.status.idle": "2024-07-03T09:36:19.256987Z",
     "shell.execute_reply": "2024-07-03T09:36:19.256117Z",
     "shell.execute_reply.started": "2024-07-03T09:36:15.555175Z"
    },
    "tags": []
   },
   "outputs": [
    {
     "name": "stderr",
     "output_type": "stream",
     "text": [
      "/opt/saturncloud/envs/saturn/lib/python3.10/site-packages/transformers/generation/configuration_utils.py:545: UserWarning: `do_sample` is set to `False`. However, `top_p` is set to `0.95` -- this flag is only used in sample-based generation modes. You should set `do_sample=True` or unset `top_p`.\n",
      "  warnings.warn(\n"
     ]
    },
    {
     "data": {
      "text/plain": [
       "\"Yes, even if you don't register, you're still eligible to submit the homeworks. Be aware, however, that there will be deadlines for turning in the final projects. So don't leave everything for the last minute.\""
      ]
     },
     "execution_count": 18,
     "metadata": {},
     "output_type": "execute_result"
    }
   ],
   "source": [
    "rag(\"I just discovered the course. Can I still join it?\")"
   ]
  },
  {
   "cell_type": "code",
   "execution_count": null,
   "id": "efcead37-7714-452c-8f5a-3d128b840455",
   "metadata": {},
   "outputs": [],
   "source": []
  },
  {
   "cell_type": "code",
   "execution_count": null,
   "id": "04642d35-c0a9-4ff2-840a-872eefa2dbf5",
   "metadata": {},
   "outputs": [],
   "source": []
  }
 ],
 "metadata": {
  "kernelspec": {
   "display_name": "saturn (Python 3)",
   "language": "python",
   "name": "python3"
  },
  "language_info": {
   "codemirror_mode": {
    "name": "ipython",
    "version": 3
   },
   "file_extension": ".py",
   "mimetype": "text/x-python",
   "name": "python",
   "nbconvert_exporter": "python",
   "pygments_lexer": "ipython3",
   "version": "3.10.13"
  }
 },
 "nbformat": 4,
 "nbformat_minor": 5
}
