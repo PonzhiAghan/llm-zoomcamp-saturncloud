{
 "cells": [
  {
   "cell_type": "code",
   "execution_count": 1,
   "id": "28f4b942-9888-4274-8a61-172b21b75fdf",
   "metadata": {
    "execution": {
     "iopub.execute_input": "2024-07-03T09:45:43.993981Z",
     "iopub.status.busy": "2024-07-03T09:45:43.993679Z",
     "iopub.status.idle": "2024-07-03T09:45:44.001015Z",
     "shell.execute_reply": "2024-07-03T09:45:44.000317Z",
     "shell.execute_reply.started": "2024-07-03T09:45:43.993955Z"
    },
    "tags": []
   },
   "outputs": [],
   "source": [
    "import os\n",
    "os.environ['HF_HOME'] = '/run/cache/'"
   ]
  },
  {
   "cell_type": "code",
   "execution_count": 2,
   "id": "a450304f-f310-4bfc-9fcb-d89652be3962",
   "metadata": {
    "execution": {
     "iopub.execute_input": "2024-07-03T09:45:44.005795Z",
     "iopub.status.busy": "2024-07-03T09:45:44.005556Z",
     "iopub.status.idle": "2024-07-03T09:45:45.178842Z",
     "shell.execute_reply": "2024-07-03T09:45:45.178108Z",
     "shell.execute_reply.started": "2024-07-03T09:45:44.005772Z"
    },
    "tags": []
   },
   "outputs": [
    {
     "data": {
      "text/plain": [
       "<minsearch.Index at 0x7f5cdab23c70>"
      ]
     },
     "execution_count": 2,
     "metadata": {},
     "output_type": "execute_result"
    }
   ],
   "source": [
    "import requests \n",
    "import minsearch\n",
    "\n",
    "docs_url = 'https://github.com/DataTalksClub/llm-zoomcamp/blob/main/01-intro/documents.json?raw=1'\n",
    "docs_response = requests.get(docs_url)\n",
    "documents_raw = docs_response.json()\n",
    "\n",
    "documents = []\n",
    "\n",
    "for course in documents_raw:\n",
    "    course_name = course['course']\n",
    "\n",
    "    for doc in course['documents']:\n",
    "        doc['course'] = course_name\n",
    "        documents.append(doc)\n",
    "\n",
    "index = minsearch.Index(\n",
    "    text_fields=[\"question\", \"text\", \"section\"],\n",
    "    keyword_fields=[\"course\"]\n",
    ")\n",
    "\n",
    "index.fit(documents)"
   ]
  },
  {
   "cell_type": "code",
   "execution_count": 3,
   "id": "55dfac80-2f27-42ae-ab31-c7dcebfd7c7c",
   "metadata": {
    "execution": {
     "iopub.execute_input": "2024-07-03T09:45:45.180635Z",
     "iopub.status.busy": "2024-07-03T09:45:45.180230Z",
     "iopub.status.idle": "2024-07-03T09:45:45.184446Z",
     "shell.execute_reply": "2024-07-03T09:45:45.183819Z",
     "shell.execute_reply.started": "2024-07-03T09:45:45.180610Z"
    },
    "tags": []
   },
   "outputs": [],
   "source": [
    "def search(query):\n",
    "    boost = {'question': 3.0, 'section': 0.5}\n",
    "\n",
    "    results = index.search(\n",
    "        query=query,\n",
    "        filter_dict={'course': 'data-engineering-zoomcamp'},\n",
    "        boost_dict=boost,\n",
    "        num_results=5\n",
    "    )\n",
    "\n",
    "    return results"
   ]
  },
  {
   "cell_type": "code",
   "execution_count": 4,
   "id": "087ab829-4cdd-4281-b19d-6b54f663ad0b",
   "metadata": {
    "execution": {
     "iopub.execute_input": "2024-07-03T09:45:45.185500Z",
     "iopub.status.busy": "2024-07-03T09:45:45.185239Z",
     "iopub.status.idle": "2024-07-03T09:45:45.189553Z",
     "shell.execute_reply": "2024-07-03T09:45:45.188940Z",
     "shell.execute_reply.started": "2024-07-03T09:45:45.185478Z"
    },
    "tags": []
   },
   "outputs": [],
   "source": [
    "def rag(query):\n",
    "    search_results = search(query)\n",
    "    prompt = build_prompt(query, search_results)\n",
    "    answer = llm(prompt)\n",
    "    return answer"
   ]
  },
  {
   "cell_type": "code",
   "execution_count": 5,
   "id": "7fc9fecf-2e31-4e7e-a1b7-56235cb9fe2c",
   "metadata": {
    "execution": {
     "iopub.execute_input": "2024-07-03T09:45:45.190704Z",
     "iopub.status.busy": "2024-07-03T09:45:45.190395Z",
     "iopub.status.idle": "2024-07-03T09:45:47.854173Z",
     "shell.execute_reply": "2024-07-03T09:45:47.853228Z",
     "shell.execute_reply.started": "2024-07-03T09:45:45.190658Z"
    },
    "tags": []
   },
   "outputs": [
    {
     "data": {
      "text/plain": [
       "<torch._C.Generator at 0x7f5cd300f0f0>"
      ]
     },
     "execution_count": 5,
     "metadata": {},
     "output_type": "execute_result"
    }
   ],
   "source": [
    "import torch\n",
    "from transformers import AutoModelForCausalLM, AutoTokenizer, pipeline\n",
    "\n",
    "torch.random.manual_seed(0)"
   ]
  },
  {
   "cell_type": "code",
   "execution_count": 6,
   "id": "b94a233b-6c7c-4d02-a2ec-4c2e475f1353",
   "metadata": {
    "execution": {
     "iopub.execute_input": "2024-07-03T09:45:47.857910Z",
     "iopub.status.busy": "2024-07-03T09:45:47.857403Z",
     "iopub.status.idle": "2024-07-03T09:45:51.277395Z",
     "shell.execute_reply": "2024-07-03T09:45:51.276603Z",
     "shell.execute_reply.started": "2024-07-03T09:45:47.857873Z"
    },
    "tags": []
   },
   "outputs": [
    {
     "name": "stderr",
     "output_type": "stream",
     "text": [
      "`flash-attention` package not found, consider installing for better performance: No module named 'flash_attn'.\n",
      "Current `flash-attention` does not support `window_size`. Either upgrade or use `attn_implementation='eager'`.\n"
     ]
    },
    {
     "data": {
      "application/vnd.jupyter.widget-view+json": {
       "model_id": "5b00f0ccc8264b38b5af4607d4123bd4",
       "version_major": 2,
       "version_minor": 0
      },
      "text/plain": [
       "Loading checkpoint shards:   0%|          | 0/2 [00:00<?, ?it/s]"
      ]
     },
     "metadata": {},
     "output_type": "display_data"
    },
    {
     "name": "stderr",
     "output_type": "stream",
     "text": [
      "Special tokens have been added in the vocabulary, make sure the associated word embeddings are fine-tuned or trained.\n"
     ]
    }
   ],
   "source": [
    "model = AutoModelForCausalLM.from_pretrained(\n",
    "    \"microsoft/Phi-3-mini-128k-instruct\", \n",
    "    device_map=\"cuda\", \n",
    "    torch_dtype=\"auto\", \n",
    "    trust_remote_code=True, \n",
    ")\n",
    "tokenizer = AutoTokenizer.from_pretrained(\"microsoft/Phi-3-mini-128k-instruct\")"
   ]
  },
  {
   "cell_type": "code",
   "execution_count": 7,
   "id": "5689e7cb-b335-47dc-b1c2-2f1a58f17a0a",
   "metadata": {
    "execution": {
     "iopub.execute_input": "2024-07-03T09:45:51.279141Z",
     "iopub.status.busy": "2024-07-03T09:45:51.278559Z",
     "iopub.status.idle": "2024-07-03T09:45:51.283174Z",
     "shell.execute_reply": "2024-07-03T09:45:51.282466Z",
     "shell.execute_reply.started": "2024-07-03T09:45:51.279100Z"
    },
    "tags": []
   },
   "outputs": [],
   "source": [
    "pipe = pipeline(\n",
    "    \"text-generation\",\n",
    "    model=model,\n",
    "    tokenizer=tokenizer,\n",
    ")"
   ]
  },
  {
   "cell_type": "code",
   "execution_count": 8,
   "id": "b634d54f-e94c-439f-8550-0bc4fd700e7a",
   "metadata": {
    "execution": {
     "iopub.execute_input": "2024-07-03T09:45:51.284299Z",
     "iopub.status.busy": "2024-07-03T09:45:51.284007Z",
     "iopub.status.idle": "2024-07-03T09:45:51.289875Z",
     "shell.execute_reply": "2024-07-03T09:45:51.289246Z",
     "shell.execute_reply.started": "2024-07-03T09:45:51.284276Z"
    },
    "tags": []
   },
   "outputs": [],
   "source": [
    "def build_prompt(query, search_results):\n",
    "    prompt_template = \"\"\"\n",
    "You're a course teaching assistant. Answer the QUESTION based on the CONTEXT from the FAQ database.\n",
    "Use only the facts from the CONTEXT when answering the QUESTION.\n",
    "\n",
    "QUESTION: {question}\n",
    "\n",
    "CONTEXT:\n",
    "{context}\n",
    "\"\"\".strip()\n",
    "\n",
    "    context = \"\"\n",
    "    \n",
    "    for doc in search_results:\n",
    "        context = context + f\"section: {doc['section']}\\nquestion: {doc['question']}\\nanswer: {doc['text']}\\n\\n\"\n",
    "    \n",
    "    prompt = prompt_template.format(question=query, context=context).strip()\n",
    "    return prompt\n",
    "\n",
    "def llm(prompt):\n",
    "    messages = [\n",
    "        {\"role\": \"user\", \"content\": prompt},\n",
    "    ]\n",
    "\n",
    "    generation_args = {\n",
    "        \"max_new_tokens\": 500,\n",
    "        \"return_full_text\": False,\n",
    "        \"temperature\": 0.0,\n",
    "        \"do_sample\": False,\n",
    "    }\n",
    "\n",
    "    output = pipe(messages, **generation_args)\n",
    "    return output[0]['generated_text'].strip()"
   ]
  },
  {
   "cell_type": "code",
   "execution_count": 9,
   "id": "7d23b8bf-7fe6-4ce2-a883-5d4867668695",
   "metadata": {
    "execution": {
     "iopub.execute_input": "2024-07-03T09:45:51.291049Z",
     "iopub.status.busy": "2024-07-03T09:45:51.290710Z",
     "iopub.status.idle": "2024-07-03T09:45:57.438879Z",
     "shell.execute_reply": "2024-07-03T09:45:57.438125Z",
     "shell.execute_reply.started": "2024-07-03T09:45:51.291023Z"
    },
    "tags": []
   },
   "outputs": [
    {
     "name": "stderr",
     "output_type": "stream",
     "text": [
      "/opt/saturncloud/envs/saturn/lib/python3.10/site-packages/transformers/generation/configuration_utils.py:540: UserWarning: `do_sample` is set to `False`. However, `temperature` is set to `0.0` -- this flag is only used in sample-based generation modes. You should set `do_sample=True` or unset `temperature`.\n",
      "  warnings.warn(\n",
      "The `seen_tokens` attribute is deprecated and will be removed in v4.41. Use the `cache_position` model input instead.\n",
      "You are not running the flash-attention implementation, expect numerical differences.\n"
     ]
    },
    {
     "data": {
      "text/plain": [
       "'You can still join the course even if you discover it after the start date. You are eligible to submit the homeworks, but remember to meet the deadlines for the final projects. You can also follow the course materials at your own pace after it finishes, and start working on your final capstone project.'"
      ]
     },
     "execution_count": 9,
     "metadata": {},
     "output_type": "execute_result"
    }
   ],
   "source": [
    "rag(\"I just discovered the course. Can I still join it?\")"
   ]
  },
  {
   "cell_type": "code",
   "execution_count": null,
   "id": "15fd6768-d3da-4c19-8e61-d4505a9edb79",
   "metadata": {},
   "outputs": [],
   "source": []
  }
 ],
 "metadata": {
  "kernelspec": {
   "display_name": "saturn (Python 3)",
   "language": "python",
   "name": "python3"
  },
  "language_info": {
   "codemirror_mode": {
    "name": "ipython",
    "version": 3
   },
   "file_extension": ".py",
   "mimetype": "text/x-python",
   "name": "python",
   "nbconvert_exporter": "python",
   "pygments_lexer": "ipython3",
   "version": "3.10.13"
  }
 },
 "nbformat": 4,
 "nbformat_minor": 5
}
